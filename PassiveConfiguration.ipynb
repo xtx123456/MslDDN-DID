{
 "cells": [
  {
   "cell_type": "code",
   "execution_count": 2,
   "metadata": {},
   "outputs": [
    {
     "name": "stdout",
     "output_type": "stream",
     "text": [
      "                                  sa=0.15,ss=0.57\n",
      "-------  ----------  ---------  -----------------\n",
      "n =1000  psa = 1/10  pss = 2/5                260\n",
      "n =500   psa = 1/10  pss = 2/5                208\n",
      "n =1000  psa = 1/5   pss = 1/2                790\n",
      "n =500   psa = 1/5   pss = 1/2                434\n",
      "\n",
      "\n"
     ]
    }
   ],
   "source": [
    "import math\n",
    "import scipy.special\n",
    "from fractions import Fraction\n",
    "from tabulate import tabulate\n",
    "\n",
    "def p_fail(N, ta,ts , C ,p_max,sa,ss):\n",
    "    p=0\n",
    "    denom = scipy .special.comb(N, C , exact=True)\n",
    "    for i in range(math.floor(C*ss+1), math.ceil((C*2/3))+1) :\n",
    "        for j in range(math.floor(C*sa+1),math.ceil((C*1/3))+1): \n",
    "            if C-i-j>0:\n",
    "                p += Fraction(scipy.special.comb(ts,i, exact=True)*scipy.special.comb(ta,j, exact=True) * scipy.special.comb(N-ts-ta,C-i-j,exact=True),denom)\n",
    "            else:\n",
    "                p += Fraction(scipy.special.comb(ts,i, exact=True)*scipy.special.comb(ta,j, exact=True),denom)\n",
    "    return p\n",
    "\n",
    "# Minimum committee size with corruption ratio at most cr such that pfail <= 2~(-k)\n",
    "def min_csize(N, ta ,ts, sa,ss , k) :\n",
    "    p_max = Fraction(1, 2**k)\n",
    "    for C in range(1, N+1) :\n",
    "        if p_fail(N,ta,ts,C,p_max,sa,ss) <= p_max :\n",
    "            return C\n",
    "\n",
    "def print_csizes (ns , ps ,k,sa,ss):\n",
    "    header = [\"\",\"\"] + [(f\"sa={float(sa)},ss={float(ss)}\") for sa, ss in zip(sa, ss)]\n",
    "    table = []\n",
    "    for p in ps:\n",
    "        for n in ns:\n",
    "            ta=n*p[0]\n",
    "            ts=n*p[1]\n",
    "            table +=[ [\"n =\"+ str(n), \"psa = \" + str(p[0]),\"pss = \" + str(p[1])] + [min_csize(n, ta,ts, sa,ss, k) for sa, ss in zip(sa, ss)]]\n",
    "    print(tabulate(table , header))\n",
    "\n",
    "def main ( ) :\n",
    "# Consider total populations 1000 and 500 with 10% and 20% corruption , with 60 bit security\n",
    "    ns = [ 1000 , 500]\n",
    "    # ps = [ [Fraction ( 10 , 100),Fraction ( 55 , 100)] , [Fraction ( 20 , 100),Fraction ( 60 , 100)]]\n",
    "    ps = [ [Fraction ( 10 , 100),Fraction ( 40 , 100)] , [Fraction ( 20 , 100),Fraction ( 50 , 100)]]\n",
    "    k = 60\n",
    "\n",
    "    # sa = [Fraction ( 30 , 100 ) , Fraction ( 25 , 100 ) , Fraction ( 20 , 100 ), Fraction ( 15 , 100 ), Fraction ( 10 , 100 ), Fraction ( 5 , 100 )]\n",
    "    # ss = [Fraction ( 65 , 100 ) , Fraction ( 62 , 100 ) , Fraction ( 60 , 100 ), Fraction ( 57 , 100 ), Fraction ( 55 , 100 ), Fraction ( 52 , 100 )]\n",
    "    sa = [Fraction ( 15 , 100 )]\n",
    "    ss = [Fraction ( 57 , 100 )]\n",
    "    # print table with committee sizes\n",
    "    print_csizes ( ns , ps ,k,sa,ss)\n",
    "    print ( \"\\n\" )\n",
    "\n",
    "\n",
    "\n",
    "if __name__ == '__main__':\n",
    "    main()\n"
   ]
  }
 ],
 "metadata": {
  "kernelspec": {
   "display_name": "watermark",
   "language": "python",
   "name": "python3"
  },
  "language_info": {
   "codemirror_mode": {
    "name": "ipython",
    "version": 3
   },
   "file_extension": ".py",
   "mimetype": "text/x-python",
   "name": "python",
   "nbconvert_exporter": "python",
   "pygments_lexer": "ipython3",
   "version": "3.10.6"
  }
 },
 "nbformat": 4,
 "nbformat_minor": 2
}
